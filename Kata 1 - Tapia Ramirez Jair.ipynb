{
 "cells": [
  {
   "cell_type": "markdown",
   "metadata": {},
   "source": [
    "                                                    Kata 1"
   ]
  },
  {
   "cell_type": "code",
   "execution_count": 5,
   "metadata": {},
   "outputs": [
    {
     "name": "stdout",
     "output_type": "stream",
     "text": [
      "Today is : 2022-02-10\n"
     ]
    }
   ],
   "source": [
    "from datetime import date\n",
    "print('Today is : ' + str (date.today()))"
   ]
  },
  {
   "cell_type": "markdown",
   "metadata": {},
   "source": [
    "                                                Calculo del programa"
   ]
  },
  {
   "cell_type": "code",
   "execution_count": 6,
   "metadata": {},
   "outputs": [
    {
     "name": "stdout",
     "output_type": "stream",
     "text": [
      "11 parsecs is  35.877159999999996 light years\n"
     ]
    }
   ],
   "source": [
    "parsec = 11\n",
    "lighyears = parsec * 3.26156\n",
    "print ( str (parsec) + ' parsecs is  ' + str (lighyears) + ' light years')\n"
   ]
  }
 ],
 "metadata": {
  "interpreter": {
   "hash": "98c0a97975637c0006b310097cc600d549d4395632267b6842867440a2ce3a51"
  },
  "kernelspec": {
   "display_name": "Python 3.10.2 64-bit",
   "language": "python",
   "name": "python3"
  },
  "language_info": {
   "codemirror_mode": {
    "name": "ipython",
    "version": 3
   },
   "file_extension": ".py",
   "mimetype": "text/x-python",
   "name": "python",
   "nbconvert_exporter": "python",
   "pygments_lexer": "ipython3",
   "version": "3.10.2"
  },
  "orig_nbformat": 4
 },
 "nbformat": 4,
 "nbformat_minor": 2
}
